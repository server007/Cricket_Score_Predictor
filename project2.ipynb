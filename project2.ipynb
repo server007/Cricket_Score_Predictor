{
  "nbformat": 4,
  "nbformat_minor": 0,
  "metadata": {
    "colab": {
      "name": "project2.ipynb",
      "provenance": [],
      "collapsed_sections": [],
      "mount_file_id": "1jHbLAbQLaSeG57UbTWvL-VtK757faInP",
      "authorship_tag": "ABX9TyPIgtFaKvaKATLfGhDnh4HS",
      "include_colab_link": true
    },
    "kernelspec": {
      "name": "python3",
      "display_name": "Python 3"
    }
  },
  "cells": [
    {
      "cell_type": "markdown",
      "metadata": {
        "id": "view-in-github",
        "colab_type": "text"
      },
      "source": [
        "<a href=\"https://colab.research.google.com/github/server007/Cricket_Score_Predictor/blob/master/project2.ipynb\" target=\"_parent\"><img src=\"https://colab.research.google.com/assets/colab-badge.svg\" alt=\"Open In Colab\"/></a>"
      ]
    },
    {
      "cell_type": "code",
      "metadata": {
        "id": "RSjKX9S0Swpx",
        "colab_type": "code",
        "colab": {}
      },
      "source": [
        "# Import statements\n",
        "import ipywidgets as ip\n",
        "import numpy as np\n",
        "import pandas as pd"
      ],
      "execution_count": 0,
      "outputs": []
    },
    {
      "cell_type": "code",
      "metadata": {
        "id": "ZZhf9u8bUD5K",
        "colab_type": "code",
        "colab": {}
      },
      "source": [
        "# To select the format of the match using dropdown list\n",
        "match_format=ip.Select(\n",
        "    options=['odi','t20','ipl'],\n",
        "    description='Format:',\n",
        "    disabled=False,\n",
        "    rows=1,\n",
        ")\n",
        "match_format"
      ],
      "execution_count": 0,
      "outputs": []
    },
    {
      "cell_type": "code",
      "metadata": {
        "id": "Te4gQIzkWWZz",
        "colab_type": "code",
        "colab": {}
      },
      "source": [
        "# Importing the dataset of format selected earlier\n",
        "adrress='/content/drive/My Drive/project/cricket_prediction/{}.csv'.format(match_format.value)\n",
        "dataset = pd.read_csv(adrress)"
      ],
      "execution_count": 0,
      "outputs": []
    },
    {
      "cell_type": "code",
      "metadata": {
        "id": "iWdcFIrSSBl6",
        "colab_type": "code",
        "colab": {}
      },
      "source": [
        "# Dividing the data into two parts\n",
        "# x have current score, wickets, overs and score of both batsmen\n",
        "# y has final score\n",
        "X = dataset.iloc[:,[7,8,9,12,13]].values #Input features\n",
        "y = dataset.iloc[:, 14].values #Label"
      ],
      "execution_count": 0,
      "outputs": []
    },
    {
      "cell_type": "code",
      "metadata": {
        "id": "SRlOl7HrUAAD",
        "colab_type": "code",
        "colab": {}
      },
      "source": [
        "# Splitting the dataset into the Training set and Test set\n",
        "from sklearn.model_selection import train_test_split\n",
        "X_train, X_test, y_train, y_test = train_test_split(X, y, test_size = 0.25, random_state = 0)"
      ],
      "execution_count": 0,
      "outputs": []
    },
    {
      "cell_type": "code",
      "metadata": {
        "id": "e5lq3zFQUKkn",
        "colab_type": "code",
        "colab": {}
      },
      "source": [
        "# Feature Scaling\n",
        "from sklearn.preprocessing import StandardScaler\n",
        "sc = StandardScaler()\n",
        "X_train = sc.fit_transform(X_train)\n",
        "X_test = sc.transform(X_test)"
      ],
      "execution_count": 0,
      "outputs": []
    },
    {
      "cell_type": "code",
      "metadata": {
        "id": "0CD00hisUObJ",
        "colab_type": "code",
        "colab": {}
      },
      "source": [
        "# Training the dataset with RainForestRegression algo\n",
        "from sklearn.ensemble import RandomForestRegressor\n",
        "lin = RandomForestRegressor(n_estimators=100,max_features=None)\n",
        "lin.fit(X_train,y_train)"
      ],
      "execution_count": 0,
      "outputs": []
    },
    {
      "cell_type": "code",
      "metadata": {
        "id": "Pk_AHg8EiGBj",
        "colab_type": "code",
        "colab": {}
      },
      "source": [
        "# Training the dataset with LinearRegression algo\n",
        "# from sklearn.linear_model import LinearRegression\n",
        "# lin = LinearRegression()\n",
        "# lin.fit(X_train,y_train)"
      ],
      "execution_count": 0,
      "outputs": []
    },
    {
      "cell_type": "code",
      "metadata": {
        "id": "RlcvjG_tYOai",
        "colab_type": "code",
        "outputId": "e3eeaca6-ab8a-40ba-a00f-d5f5477cb303",
        "colab": {
          "base_uri": "https://localhost:8080/",
          "height": 35
        }
      },
      "source": [
        "# Testing the dataset on trained model\n",
        "y_pred = lin.predict(X_test)\n",
        "score = lin.score(X_test,y_test)*100\n",
        "score"
      ],
      "execution_count": 0,
      "outputs": [
        {
          "output_type": "execute_result",
          "data": {
            "text/plain": [
              "79.57800482674466"
            ]
          },
          "metadata": {
            "tags": []
          },
          "execution_count": 86
        }
      ]
    },
    {
      "cell_type": "code",
      "metadata": {
        "id": "ilRM1VaLVXw9",
        "colab_type": "code",
        "colab": {}
      },
      "source": [
        "# Defining custom accuracy by providing thresold\n",
        "def custom_accuracy(y_test,y_pred,thresold):\n",
        "    right = 0\n",
        "    l = len(y_pred)\n",
        "    for i in range(0,l):\n",
        "        if(abs(y_pred[i]-y_test[i]) <= thresold):\n",
        "            right += 1\n",
        "    return ((right/l)*100)\n",
        "print(custom_accuracy(y_test,y_pred,20))"
      ],
      "execution_count": 0,
      "outputs": []
    },
    {
      "cell_type": "code",
      "metadata": {
        "id": "p95oYhblYkKW",
        "colab_type": "code",
        "colab": {}
      },
      "source": [
        "# Take current score as an input\n",
        "curr_score=ip.IntText(\n",
        "    description='Curr Score:',\n",
        "    disabled=False\n",
        ")\n",
        "curr_score"
      ],
      "execution_count": 0,
      "outputs": []
    },
    {
      "cell_type": "code",
      "metadata": {
        "id": "gRCjT8fsZdnT",
        "colab_type": "code",
        "colab": {}
      },
      "source": [
        "# Take current wickets as an input\n",
        "wicket=ip.IntSlider(\n",
        "    min=0,\n",
        "    max=9,\n",
        "    step=1,\n",
        "    description='Wickets:',\n",
        "    disabled=False,\n",
        "    continuous_update=False,\n",
        "    orientation='horizontal',\n",
        "    readout=True,\n",
        "    readout_format='d'\n",
        ")\n",
        "wicket"
      ],
      "execution_count": 0,
      "outputs": []
    },
    {
      "cell_type": "code",
      "metadata": {
        "id": "bvu3KD9mZnMb",
        "colab_type": "code",
        "colab": {}
      },
      "source": [
        "# Take current overs as an input\n",
        "overs=ip.IntText(\n",
        "    description='Overs:',\n",
        "    disabled=False\n",
        ")\n",
        "overs"
      ],
      "execution_count": 0,
      "outputs": []
    },
    {
      "cell_type": "code",
      "metadata": {
        "id": "1QESK34YbecT",
        "colab_type": "code",
        "colab": {}
      },
      "source": [
        "# Take current score of one of the batsman as an input\n",
        "man_1=ip.IntText(\n",
        "    description='1st man:',\n",
        "    disabled=False\n",
        ")\n",
        "man_1"
      ],
      "execution_count": 0,
      "outputs": []
    },
    {
      "cell_type": "code",
      "metadata": {
        "id": "qj7r5T1Wbe9r",
        "colab_type": "code",
        "colab": {}
      },
      "source": [
        "# Take current score of other batsman as an input\n",
        "man_2=ip.IntText(\n",
        "    description='2st man:',\n",
        "    disabled=False\n",
        ")\n",
        "man_2"
      ],
      "execution_count": 0,
      "outputs": []
    },
    {
      "cell_type": "code",
      "metadata": {
        "id": "1iQmoS-FX17X",
        "colab_type": "code",
        "outputId": "0cc897ec-8621-4359-f699-4cf0ae44f935",
        "colab": {
          "base_uri": "https://localhost:8080/",
          "height": 35
        }
      },
      "source": [
        "# Testing by providing a custom input\n",
        "a=curr_score.value\n",
        "b=wicket.value\n",
        "c=overs.value\n",
        "d=man_1.value\n",
        "e=man_2.value\n",
        "new_prediction = lin.predict(sc.transform(np.array([[a,b,c,d,e]])))\n",
        "print(\"Predicted score:\" , int(new_prediction))"
      ],
      "execution_count": 0,
      "outputs": [
        {
          "output_type": "stream",
          "text": [
            "Predicted score: 172\n"
          ],
          "name": "stdout"
        }
      ]
    }
  ]
}